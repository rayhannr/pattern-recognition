{
 "cells": [
  {
   "cell_type": "code",
   "execution_count": 1,
   "metadata": {},
   "outputs": [],
   "source": [
    "# import the necessary packages\n",
    "from imutils.face_utils import FaceAligner\n",
    "from imutils.face_utils import rect_to_bb\n",
    "import argparse\n",
    "import imutils\n",
    "import dlib\n",
    "import cv2\n",
    "import os\n",
    "import numpy as np\n",
    "from matplotlib import pyplot as plt"
   ]
  },
  {
   "cell_type": "code",
   "execution_count": 2,
   "metadata": {},
   "outputs": [],
   "source": [
    "#initialize dlib's face detector (HOG-based) and then create\n",
    "#the facial landmark predictor and the face aligner\n",
    "detector = dlib.get_frontal_face_detector()\n",
    "predictor = dlib.shape_predictor(\"model/shape_predictor_68_face_landmarks.dat\")\n",
    "fa = FaceAligner(predictor, desiredFaceWidth=256)"
   ]
  },
  {
   "cell_type": "code",
   "execution_count": 3,
   "metadata": {},
   "outputs": [],
   "source": [
    "#load the input image, resize it, and convert it to grayscale\n",
    "image = cv2.imread('face2.jpg')\n",
    "image = imutils.resize(image, width=600)\n",
    "gray = cv2.cvtColor(image, cv2.COLOR_RGB2GRAY)"
   ]
  },
  {
   "cell_type": "code",
   "execution_count": 10,
   "metadata": {},
   "outputs": [],
   "source": [
    "#show the original input image\n",
    "cv2.imshow(\"Input\", image)\n",
    "cv2.imshow(\"Grayscale\", gray)\n",
    "cv2.waitKey(0)\n",
    "cv2.destroyAllWindows()"
   ]
  },
  {
   "cell_type": "code",
   "execution_count": 7,
   "metadata": {},
   "outputs": [],
   "source": [
    "#detect faces in the grayscale image\n",
    "rects = detector(gray, 2)"
   ]
  },
  {
   "cell_type": "code",
   "execution_count": 9,
   "metadata": {},
   "outputs": [],
   "source": [
    "#loop over the face detections\n",
    "for rect in rects:\n",
    "    #EXTRACT ROI OF THE ORIGINAL FACE\n",
    "    #using facial landmarks\n",
    "    (x, y, w, h) = rect_to_bb(rect)\n",
    "\n",
    "    faceAligned = fa.align(gray, gray, rect)\n",
    "    #RESIZE IMAGE\n",
    "    faceOrig = imutils.resize(image[y:y + h, x:x + w], width=256)\n",
    "    #display the output images\n",
    "    cv2.imshow(\"Aligned\", faceAligned)\n",
    "    cv2.imshow(\"Original\", faceOrig)\n",
    "    cv2.waitKey(0)\n",
    "    cv2.destroyAllWindows()"
   ]
  },
  {
   "cell_type": "code",
   "execution_count": 12,
   "metadata": {},
   "outputs": [],
   "source": [
    "#Normalized Image\n",
    "normalizedImg = np.zeros((256, 256))\n",
    "normalizedImgResult = cv2.normalize(faceAligned, normalizedImg, 0, 255, cv2.NORM_MINMAX)\n",
    "cv2.imshow(\"Aligned\", faceAligned)\n",
    "cv2.imshow(\"Normalized Image\", normalizedImgResult)\n",
    "cv2.waitKey(0)\n",
    "cv2.destroyAllWindows()"
   ]
  },
  {
   "cell_type": "code",
   "execution_count": 18,
   "metadata": {},
   "outputs": [],
   "source": [
    "#Histograms Equalization\n",
    "#to improve the contrast of our images.\n",
    "equ = cv2.equalizeHist(normalizedImgResult)\n",
    "cv2.imshow(\"Normalized Image\", normalizedImgResult)\n",
    "cv2.imshow(\"Equalization\", equ)\n",
    "cv2.waitKey(0)\n",
    "cv2.destroyAllWindows()"
   ]
  },
  {
   "cell_type": "code",
   "execution_count": 19,
   "metadata": {},
   "outputs": [],
   "source": [
    "#Filtering/Smoothing using Gaussian\n",
    "blur = cv2.GaussianBlur(equ,(5,5),0)\n",
    "median = cv2.medianBlur(equ,5)\n",
    "cv2.imshow(\"Equalization\", equ)\n",
    "cv2.imshow(\"Gaussian Blur\", blur)\n",
    "cv2.imshow(\"Median Blur\", median)\n",
    "cv2.waitKey(0)\n",
    "cv2.destroyAllWindows()"
   ]
  },
  {
   "cell_type": "code",
   "execution_count": null,
   "metadata": {},
   "outputs": [],
   "source": []
  }
 ],
 "metadata": {
  "kernelspec": {
   "display_name": "Python 3",
   "language": "python",
   "name": "python3"
  },
  "language_info": {
   "codemirror_mode": {
    "name": "ipython",
    "version": 3
   },
   "file_extension": ".py",
   "mimetype": "text/x-python",
   "name": "python",
   "nbconvert_exporter": "python",
   "pygments_lexer": "ipython3",
   "version": "3.7.0"
  }
 },
 "nbformat": 4,
 "nbformat_minor": 2
}
