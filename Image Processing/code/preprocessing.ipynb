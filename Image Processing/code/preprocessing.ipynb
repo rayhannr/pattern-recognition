{
 "cells": [
  {
   "cell_type": "markdown",
   "metadata": {},
   "source": [
    "## Image Pre-Processing using PIL"
   ]
  },
  {
   "cell_type": "markdown",
   "metadata": {},
   "source": [
    "### Load and Display Image"
   ]
  },
  {
   "cell_type": "code",
   "execution_count": 1,
   "metadata": {},
   "outputs": [],
   "source": [
    "# load and show an image with Pillow\n",
    "from PIL import Image\n",
    "# load the image\n",
    "image = Image.open('Sydney-Opera-House.jpg')\n",
    "# show the image\n",
    "image.show()"
   ]
  },
  {
   "cell_type": "markdown",
   "metadata": {},
   "source": [
    "### Show the Information of Image"
   ]
  },
  {
   "cell_type": "code",
   "execution_count": 2,
   "metadata": {
    "scrolled": true
   },
   "outputs": [
    {
     "name": "stdout",
     "output_type": "stream",
     "text": [
      "Image Format:  JPEG\n",
      "Pixel Channel Format:  RGB\n",
      "Dimensions of the Image:  (640, 360)\n"
     ]
    }
   ],
   "source": [
    "# summarize some details about the image\n",
    "print(\"Image Format: \",image.format)\n",
    "print(\"Pixel Channel Format: \",image.mode)\n",
    "print(\"Dimensions of the Image: \",image.size)"
   ]
  },
  {
   "cell_type": "markdown",
   "metadata": {},
   "source": [
    "### Extract Features of Images (Pixels)"
   ]
  },
  {
   "cell_type": "code",
   "execution_count": 3,
   "metadata": {},
   "outputs": [
    {
     "name": "stdout",
     "output_type": "stream",
     "text": [
      "(360, 640, 3)\n",
      "[[[170 187 203]\n",
      "  [170 187 203]\n",
      "  [170 187 203]\n",
      "  ...\n",
      "  [141 165 193]\n",
      "  [141 165 193]\n",
      "  [141 165 193]]\n",
      "\n",
      " [[170 187 203]\n",
      "  [170 187 203]\n",
      "  [170 187 203]\n",
      "  ...\n",
      "  [141 165 193]\n",
      "  [141 165 193]\n",
      "  [141 165 193]]\n",
      "\n",
      " [[170 187 203]\n",
      "  [170 187 203]\n",
      "  [170 187 203]\n",
      "  ...\n",
      "  [141 165 193]\n",
      "  [141 165 193]\n",
      "  [141 165 193]]\n",
      "\n",
      " ...\n",
      "\n",
      " [[ 85  95 104]\n",
      "  [ 75  85  94]\n",
      "  [ 81  91 100]\n",
      "  ...\n",
      "  [ 64  79 100]\n",
      "  [ 60  75  96]\n",
      "  [ 62  77  98]]\n",
      "\n",
      " [[ 72  82  91]\n",
      "  [ 60  70  79]\n",
      "  [ 51  61  70]\n",
      "  ...\n",
      "  [ 61  76  97]\n",
      "  [ 58  73  94]\n",
      "  [ 53  68  91]]\n",
      "\n",
      " [[ 31  41  51]\n",
      "  [ 33  43  53]\n",
      "  [ 29  39  49]\n",
      "  ...\n",
      "  [ 55  70  91]\n",
      "  [ 46  61  84]\n",
      "  [ 36  51  74]]]\n"
     ]
    }
   ],
   "source": [
    "import numpy as np\n",
    "\n",
    "# convert image to numpy array\n",
    "data = np.asarray(image)\n",
    "# summarize shape\n",
    "print(data.shape)\n",
    "# show data\n",
    "print(data)"
   ]
  },
  {
   "cell_type": "markdown",
   "metadata": {},
   "source": [
    "### Convert to Grayscale"
   ]
  },
  {
   "cell_type": "code",
   "execution_count": 4,
   "metadata": {},
   "outputs": [],
   "source": [
    "# convert the image to grayscale\n",
    "gs_image = image.convert(mode='L')\n",
    "# save in jpeg format\n",
    "gs_image.save('opera_house_grayscale.jpg')\n",
    "# load the image again and show it\n",
    "image2 = Image.open('opera_house_grayscale.jpg')\n",
    "# show the image\n",
    "image2.show()"
   ]
  },
  {
   "cell_type": "code",
   "execution_count": 5,
   "metadata": {},
   "outputs": [
    {
     "name": "stdout",
     "output_type": "stream",
     "text": [
      "(360, 640)\n",
      "[[183 183 183 ... 161 161 161]\n",
      " [183 183 183 ... 161 161 161]\n",
      " [183 183 183 ... 161 161 161]\n",
      " ...\n",
      " [ 93  83  89 ...  76  72  74]\n",
      " [ 80  68  59 ...  73  70  66]\n",
      " [ 39  41  37 ...  67  59  49]]\n"
     ]
    }
   ],
   "source": [
    "# convert image to numpy array\n",
    "data_gs = np.asarray(gs_image)\n",
    "# summarize shape\n",
    "print(data_gs.shape)\n",
    "# show data\n",
    "print(data_gs)"
   ]
  },
  {
   "cell_type": "markdown",
   "metadata": {},
   "source": [
    "### Resize Image"
   ]
  },
  {
   "cell_type": "code",
   "execution_count": 6,
   "metadata": {},
   "outputs": [
    {
     "name": "stdout",
     "output_type": "stream",
     "text": [
      "(640, 360)\n",
      "(100, 56)\n"
     ]
    }
   ],
   "source": [
    "# load the image again\n",
    "image2 = Image.open('opera_house_grayscale.jpg')\n",
    "# report the size of the image\n",
    "print(image2.size)\n",
    "# create a thumbnail and preserve aspect ratio\n",
    "# we resize image to (100, 100), which max width=100 and max height=100\n",
    "image2.thumbnail((100,100))\n",
    "# report the size of the thumbnail\n",
    "print(image2.size)\n",
    "# show the image\n",
    "image2.show()"
   ]
  },
  {
   "cell_type": "code",
   "execution_count": 10,
   "metadata": {},
   "outputs": [
    {
     "name": "stdout",
     "output_type": "stream",
     "text": [
      "(640, 360)\n",
      "(200, 200)\n"
     ]
    }
   ],
   "source": [
    "# load the image again\n",
    "image2 = Image.open('opera_house_grayscale.jpg')\n",
    "# report the size of the image\n",
    "print(image2.size)\n",
    "# resize image and ignore original aspect ratio\n",
    "img_resized = image2.resize((200,200))\n",
    "# report the size of the thumbnail\n",
    "print(img_resized.size)\n",
    "# show the image\n",
    "img_resized.show()"
   ]
  },
  {
   "cell_type": "markdown",
   "metadata": {},
   "source": [
    "### Cropped Image"
   ]
  },
  {
   "cell_type": "code",
   "execution_count": 11,
   "metadata": {},
   "outputs": [],
   "source": [
    "# load the image again\n",
    "image2 = Image.open('opera_house_grayscale.jpg')\n",
    "# create a cropped image\n",
    "# creates a cropped square image of 100 pixels starting at 100,100 and extending down and left to 200,200\n",
    "cropped = image2.crop((100, 100, 200, 200))\n",
    "# show cropped image\n",
    "cropped.show()"
   ]
  },
  {
   "cell_type": "markdown",
   "metadata": {},
   "source": [
    "### Image Filtering"
   ]
  },
  {
   "cell_type": "code",
   "execution_count": 8,
   "metadata": {},
   "outputs": [],
   "source": [
    "from PIL import ImageFilter\n",
    "# load the image\n",
    "image = Image.open('Sydney-Opera-House.jpg')\n",
    "#Image Filtering using Gaussian blur filter\n",
    "image_filter = image.filter(ImageFilter.GaussianBlur(radius=1))\n",
    "# show the image\n",
    "image_filter.show()"
   ]
  },
  {
   "cell_type": "code",
   "execution_count": 9,
   "metadata": {},
   "outputs": [],
   "source": [
    "from PIL import ImageFilter\n",
    "# load the image\n",
    "image = Image.open('Sydney-Opera-House.jpg')\n",
    "#Image Filtering using Smooth filter\n",
    "image_filter = image.filter(ImageFilter.SMOOTH)\n",
    "# show the image\n",
    "image_filter.show()"
   ]
  },
  {
   "cell_type": "code",
   "execution_count": null,
   "metadata": {},
   "outputs": [],
   "source": []
  }
 ],
 "metadata": {
  "kernelspec": {
   "display_name": "Python 3",
   "language": "python",
   "name": "python3"
  },
  "language_info": {
   "codemirror_mode": {
    "name": "ipython",
    "version": 3
   },
   "file_extension": ".py",
   "mimetype": "text/x-python",
   "name": "python",
   "nbconvert_exporter": "python",
   "pygments_lexer": "ipython3",
   "version": "3.7.4"
  }
 },
 "nbformat": 4,
 "nbformat_minor": 2
}
