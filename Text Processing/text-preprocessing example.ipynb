{
 "cells": [
  {
   "cell_type": "markdown",
   "metadata": {},
   "source": [
    "# Dasar Text-Preprocessing dengan Python#"
   ]
  },
  {
   "cell_type": "markdown",
   "metadata": {},
   "source": [
    "## Tokenizing: Sentences Tokenizing Using NLTK Module ##\n",
    "Memisahkan kalimat dalam sebuah paragraf."
   ]
  },
  {
   "cell_type": "code",
   "execution_count": 2,
   "metadata": {},
   "outputs": [
    {
     "name": "stdout",
     "output_type": "stream",
     "text": [
      "['Andi kerap melakukan transaksi rutin secara daring atau online.', 'Menurut Andi belanja online lebih praktis & murah.']\n"
     ]
    }
   ],
   "source": [
    "import nltk\n",
    "from nltk.tokenize import sent_tokenize\n",
    "\n",
    "kalimat = \"Andi kerap melakukan transaksi rutin secara daring atau online. Menurut Andi belanja online lebih praktis & murah.\"\n",
    " \n",
    "tokens = nltk.tokenize.sent_tokenize(kalimat)\n",
    "print(tokens)"
   ]
  },
  {
   "cell_type": "markdown",
   "metadata": {},
   "source": [
    "\n",
    "## Case Folding: Lowercase ##\n",
    "Merubah format teks menjadi format huruf kecil semua (_lowercase_)."
   ]
  },
  {
   "cell_type": "code",
   "execution_count": 3,
   "metadata": {},
   "outputs": [
    {
     "name": "stdout",
     "output_type": "stream",
     "text": [
      "berikut ini adalah 5 negara dengan pendidikan terbaik di dunia adalah korea selatan, jepang, singapura, hong kong, dan finlandia.\n"
     ]
    }
   ],
   "source": [
    "kalimat = \"Berikut ini adalah 5 negara dengan pendidikan terbaik di dunia adalah Korea Selatan, Jepang, Singapura, Hong Kong, dan Finlandia.\"\n",
    "lower_case = kalimat.lower()\n",
    "print(lower_case)"
   ]
  },
  {
   "cell_type": "markdown",
   "metadata": {},
   "source": [
    "## Case Folding: Removing Number ##\n",
    "Menghapus karakter angka."
   ]
  },
  {
   "cell_type": "code",
   "execution_count": 4,
   "metadata": {},
   "outputs": [
    {
     "name": "stdout",
     "output_type": "stream",
     "text": [
      "Berikut ini adalah  negara dengan pendidikan terbaik di dunia adalah Korea Selatan, Jepang, Singapura, Hong Kong, dan Finlandia.\n"
     ]
    }
   ],
   "source": [
    "import re \n",
    "\n",
    "kalimat = \"Berikut ini adalah 5 negara dengan pendidikan terbaik di dunia adalah Korea Selatan, Jepang, Singapura, Hong Kong, dan Finlandia.\"\n",
    "hasil = re.sub(r\"\\d+\", \"\", kalimat)\n",
    "print(hasil)"
   ]
  },
  {
   "cell_type": "markdown",
   "metadata": {},
   "source": [
    "## Case Folding: Removing Punctuation ##\n",
    "Menghapus karakter tanda baca."
   ]
  },
  {
   "cell_type": "code",
   "execution_count": 7,
   "metadata": {},
   "outputs": [
    {
     "name": "stdout",
     "output_type": "stream",
     "text": [
      "Ini adalah contoh kalimat dengan tanda baca\n"
     ]
    }
   ],
   "source": [
    "import string\n",
    "\n",
    "kalimat = \"Ini &adalah [contoh] kalimat? {dengan} tanda. baca?!!\"\n",
    "kalimat = kalimat.translate(kalimat.maketrans(\"\",\"\",string.punctuation))\n",
    "print(kalimat)"
   ]
  },
  {
   "cell_type": "markdown",
   "metadata": {},
   "source": [
    "## Case Folding: Removing Whitespace ##\n",
    "Menghapus karakter kosong."
   ]
  },
  {
   "cell_type": "code",
   "execution_count": 8,
   "metadata": {},
   "outputs": [
    {
     "name": "stdout",
     "output_type": "stream",
     "text": [
      "ini kalimat contoh\n",
      "ini kalimat contoh   \t \n"
     ]
    }
   ],
   "source": [
    "kalimat = \" \\t ini kalimat contoh   \\t \"\n",
    "hasil1 = kalimat.strip()\n",
    "hasil2 = kalimat.lstrip()\n",
    "print(hasil1)\n",
    "print(hasil2)"
   ]
  },
  {
   "cell_type": "markdown",
   "metadata": {},
   "source": [
    "## Separating Sentences with Split () Method ##\n",
    "Fungsi `split()` memisahkan _string_ ke dalam _list_ dengan spasi sebagai pemisah jika tidak ditentukan pemisahnya.\n",
    "\n",
    "https://www.w3schools.com/python/ref_string_split.asp"
   ]
  },
  {
   "cell_type": "code",
   "execution_count": 13,
   "metadata": {},
   "outputs": [
    {
     "name": "stdout",
     "output_type": "stream",
     "text": [
      "['rumah', 'idaman', 'adalah', 'rumah', 'yang', 'bersih.', 'ampas']\n"
     ]
    }
   ],
   "source": [
    "kalimat = \"rumah idaman adalah rumah yang bersih. ampas\"\n",
    "pisah = kalimat.split()\n",
    "print(pisah)"
   ]
  },
  {
   "cell_type": "markdown",
   "metadata": {},
   "source": [
    "## Tokenizing: Word Tokenizing Using NLTK Module ##\n",
    "Menggunakan _library_ NLTK untuk memisahkan kata dalam sebuah kalimat. \n"
   ]
  },
  {
   "cell_type": "code",
   "execution_count": 6,
   "metadata": {},
   "outputs": [
    {
     "name": "stdout",
     "output_type": "stream",
     "text": [
      "['Andi', 'kerap', 'melakukan', 'transaksi', 'rutin', 'daring', 'online', '.']\n"
     ]
    }
   ],
   "source": [
    "import nltk\n",
    "from nltk.tokenize import word_tokenize \n",
    "from Sastrawi.StopWordRemover.StopWordRemoverFactory import StopWordRemoverFactory\n",
    " \n",
    "factory = StopWordRemoverFactory()\n",
    " \n",
    "kalimat = \"Andi kerap melakukan transaksi rutin secara daring atau online.\"\n",
    "\n",
    "tokens = nltk.tokenize.word_tokenize(kalimat)\n",
    "tokens = [word for word in tokens if not word in factory.get_stop_words()]\n",
    "print(tokens)"
   ]
  },
  {
   "cell_type": "markdown",
   "metadata": {},
   "source": [
    "## Tokenizing with Case Folding ##\n",
    "Menggabungkan teknik _Case Foling_ dengan _Tokenizing_."
   ]
  },
  {
   "cell_type": "code",
   "execution_count": 14,
   "metadata": {},
   "outputs": [
    {
     "name": "stdout",
     "output_type": "stream",
     "text": [
      "['andi', 'kerap', 'melakukan', 'transaksi', 'rutin', 'secara', 'daring', 'atau', 'online']\n"
     ]
    }
   ],
   "source": [
    "import nltk\n",
    "from nltk.tokenize import word_tokenize \n",
    " \n",
    "kalimat = \"Andi kerap melakukan transaksi rutin secara daring atau online.\"\n",
    "kalimat = kalimat.translate(str.maketrans('','',string.punctuation)).lower()\n",
    " \n",
    "tokens = nltk.tokenize.word_tokenize(kalimat)\n",
    "print(tokens)"
   ]
  },
  {
   "cell_type": "markdown",
   "metadata": {},
   "source": [
    "## Filtering using NLTK: Stopword List ##"
   ]
  },
  {
   "cell_type": "code",
   "execution_count": null,
   "metadata": {},
   "outputs": [],
   "source": [
    "from nltk.tokenize import sent_tokenize, word_tokenize\n",
    "from nltk.corpus import stopwords\n",
    "\n",
    "listStopword =  set(stopwords.words('indonesian'))\n",
    " \n",
    "print(listStopword)"
   ]
  },
  {
   "cell_type": "markdown",
   "metadata": {},
   "source": [
    "## Filtering using NLTK ##\n",
    "Melihat daftar stopword pada NLTK (Indonesia)."
   ]
  },
  {
   "cell_type": "code",
   "execution_count": 23,
   "metadata": {},
   "outputs": [
    {
     "name": "stdout",
     "output_type": "stream",
     "text": [
      "['andi', 'kerap', 'transaksi', 'rutin', 'daring', 'online', 'andi', 'belanja', 'online', 'praktis', 'murah']\n",
      "{'biasanya', 'mendatangkan', 'apaan', 'punya', 'menanya', 'memisalkan', 'ditunjukkan', 'kalaupun', 'bersiap-siap', 'setempat', 'pentingnya', 'lainnya', 'bukanlah', 'tengah', 'berlalu', 'kira', 'tanyakan', 'ditambahkan', 'entah', 'diakhiri', 'walau', 'semampu', 'sekali-kali', 'melakukan', 'bisa', 'ataukah', 'tanpa', 'bermaksud', 'semaunya', 'berakhir', 'makin', 'lanjut', 'demi', 'pertanyaan', 'seharusnya', 'selama', 'segera', 'tiba-tiba', 'menyatakan', 'sudah', 'pasti', 'justru', 'setelah', 'lewat', 'rasa', 'serupa', 'kelamaan', 'agar', 'mengatakannya', 'artinya', 'saatnya', 'kami', 'sesudah', 'kelihatan', 'diberikan', 'entahlah', 'katakan', 'dikarenakan', 'sampai-sampai', 'terdiri', 'mempersiapkan', 'terlihat', 'beginikah', 'beginilah', 'benar', 'sekalipun', 'tetapi', 'kalian', 'kapankah', 'saat', 'berturut', 'menyampaikan', 'belum', 'bagian', 'dekat', 'dimulai', 'sebaik-baiknya', 'seperti', 'soalnya', 'benarlah', 'wong', 'teringat', 'menaiki', 'tentu', 'sela', 'kira-kira', 'tuturnya', 'pun', 'soal', 'keluar', 'kepadanya', 'bolehkah', 'jelaslah', 'kita', 'selanjutnya', 'sebab', 'percuma', 'antaranya', 'mempersoalkan', 'bulan', 'semasih', 'lain', 'dulu', 'diperbuatnya', 'semuanya', 'tidakkah', 'lama', 'memihak', 'saja', 'umumnya', 'melainkan', 'menjadi', 'dikerjakan', 'semisalnya', 'sedemikian', 'atas', 'akankah', 'selain', 'hal', 'betulkah', 'berikutnya', 'sempat', 'selamanya', 'ditujukan', 'akhirnya', 'seperlunya', 'boleh', 'mengucapkannya', 'mengira', 'terlalu', 'semula', 'katanya', 'ia', 'ini', 'adanya', 'olehnya', 'berawal', 'disebutkannya', 'dituturkannya', 'mempunyai', 'penting', 'sebetulnya', 'lebih', 'apakah', 'kamilah', 'pantas', 'sebagian', 'sekarang', 'macam', 'diantara', 'keterlaluan', 'tambah', 'tiba', 'se', 'bukan', 'setinggi', 'untuk', 'mendapatkan', 'seusai', 'tanyanya', 'bagaimanakah', 'sekecil', 'besar', 'akan', 'padanya', 'umum', 'bila', 'diucapkannya', 'berapapun', 'seketika', 'memerlukan', 'dikatakannya', 'diakhirinya', 'sebut', 'mendatangi', 'sementara', 'antara', 'harusnya', 'atau', 'kiranya', 'menyiapkan', 'demikian', 'keseluruhan', 'dipastikan', 'pernah', 'saling', 'yang', 'sebenarnya', 'kitalah', 'berjumlah', 'hingga', 'mengatakan', 'dimaksud', 'kepada', 'dapat', 'berkali-kali', 'turut', 'hanya', 'sekadarnya', 'waduh', 'awalnya', 'bermacam', 'ataupun', 'melalui', 'seolah-olah', 'tempat', 'tampaknya', 'sekurang-kurangnya', 'sajalah', 'kala', 'ibaratkan', 'sinilah', 'sejauh', 'setiap', 'tandas', 'sebegitu', 'sehingga', 'diketahui', 'akulah', 'kan', 'seringnya', 'terutama', 'ditunjuk', 'bapak', 'sekali', 'berlainan', 'namun', 'terbanyak', 'bilakah', 'jumlah', 'perlu', 'tahu', 'serta', 'diucapkan', 'diingatkan', 'kok', 'menunjukkan', 'maka', 'mulailah', 'apabila', 'selalu', 'lagi', 'seorang', 'mengerjakan', 'malahan', 'memungkinkan', 'supaya', 'pihaknya', 'semampunya', 'menyeluruh', 'sebisanya', 'bolehlah', 'kelima', 'bagaimanapun', 'mendatang', 'disampaikan', 'sebaik', 'kamulah', 'ucap', 'lagian', 'katakanlah', 'ujarnya', 'janganlah', 'terdahulu', 'betul', 'haruslah', 'kasus', 'sering', 'sewaktu', 'nanti', 'merupakan', 'begitupun', 'dia', 'yakin', 'hampir', 'mendapat', 'memberikan', 'meminta', 'bahwa', 'masalahnya', 'ditunjukkannya', 'berdatangan', 'dijawab', 'masih', 'usai', 'terhadap', 'semakin', 'tertuju', 'memintakan', 'suatu', 'diantaranya', 'kelihatannya', 'misal', 'sambil', 'dipersoalkan', 'sebagai', 'keadaan', 'kecil', 'kata', 'tapi', 'dua', 'masing', 'ditanyai', 'menyangkut', 'mengibaratkan', 'dimaksudkan', 'ternyata', 'merekalah', 'sepantasnya', 'berbagai', 'terjadi', 'hendak', 'mampukah', 'jawabnya', 'nyaris', 'agak', 'bisakah', 'semata', 'sejenak', 'sedang', 'terjadilah', 'ditunjuknya', 'termasuk', 'berujar', 'keinginan', 'jelasnya', 'bertanya-tanya', 'sepertinya', 'pertama', 'karenanya', 'pertama-tama', 'yakni', 'sangat', 'sepihak', 'pertanyakan', 'persoalan', 'belakangan', 'diungkapkan', 'begitulah', 'enggak', 'sebelum', 'sedangkan', 'dimaksudkannya', 'jadilah', 'sendirian', 'karena', 'tegasnya', 'didatangkan', 'kalaulah', 'sedikitnya', 'kapan', 'sampaikan', 'diminta', 'kapanpun', 'siap', 'dimulainya', 'antar', 'meyakini', 'tidak', 'sudahkah', 'jawaban', 'sejak', 'berkehendak', 'tampak', 'masihkah', 'segala', 'bung', 'disebut', 'telah', 'mengetahui', 'terkira', 'bersiap', 'semata-mata', 'inginkah', 'bertanya', 'enggaknya', 'akhiri', 'begini', 'sekadar', 'bakalan', 'diinginkan', 'mempertanyakan', 'bakal', 'menanyakan', 'sama', 'adalah', 'cuma', 'diri', 'hari', 'pula', 'menjawab', 'aku', 'digunakan', 'ucapnya', 'sangatlah', 'inginkan', 'menanyai', 'dimintai', 'nah', 'terjadinya', 'dilalui', 'dalam', 'setidaknya', 'ditunjuki', 'disini', 'jawab', 'tandasnya', 'sekaligus', 'mungkin', 'guna', 'diketahuinya', 'nyatanya', 'menandaskan', 'bermula', 'belakang', 'hendaklah', 'tinggi', 'berlangsung', 'kini', 'balik', 'bermacam-macam', 'lanjutnya', 'asal', 'memperkirakan', 'minta', 'menuju', 'berada', 'sendiri', 'hendaknya', 'pihak', 'saya', 'selaku', 'pak', 'memulai', 'manakala', 'dimungkinkan', 'diberi', 'perlunya', 'bersama-sama', 'menegaskan', 'sebesar', 'belumlah', 'jadi', 'merasa', 'panjang', 'dibuatnya', 'pukul', 'setibanya', 'cukuplah', 'khususnya', 'menantikan', 'makanya', 'lah', 'menurut', 'sebabnya', 'ada', 'berapa', 'menuturkan', 'dikira', 'andalah', 'cara', 'tersampaikan', 'dibuat', 'ibu', 'mengingat', 'terasa', 'berkeinginan', 'tertentu', 'seenaknya', 'tentunya', 'datang', 'sedikit', 'pastilah', 'berupa', 'kesampaian', 'berlebihan', 'keduanya', 'gunakan', 'kemungkinan', 'sesekali', 'sudahlah', 'dengan', 'dijelaskannya', 'meyakinkan', 'bawah', 'bagi', 'mempergunakan', 'diperbuat', 'baru', 'memang', 'meskipun', 'menunjuknya', 'harus', 'sebaliknya', 'jika', 'malah', 'menanti-nanti', 'siapa', 'itukah', 'padahal', 'ke', 'sesampai', 'banyak', 'kurang', 'memastikan', 'segalanya', 'tunjuk', 'bahwasanya', 'buat', 'bahkan', 'mulanya', 'diibaratkannya', 'sama-sama', 'bersama', 'menjelaskan', 'dong', 'mengucapkan', 'paling', 'mengingatkan', 'menanti', 'maupun', 'bekerja', 'sejumlah', 'sesama', 'menggunakan', 'masa', 'ibarat', 'jikalau', 'melihatnya', 'seberapa', 'siapapun', 'ditanyakan', 'sesegera', 'perlukah', 'sebagaimana', 'asalkan', 'dimulailah', 'mulai', 'nantinya', 'selama-lamanya', 'terakhir', 'lamanya', 'mau', 'itu', 'seseorang', 'menambahkan', 'menghendaki', 'tak', 'ungkap', 'bagai', 'ibaratnya', 'ketika', 'sana', 'waktu', 'sebegini', 'jangankan', 'yaitu', 'semisal', 'tadi', 'dipertanyakan', 'tambahnya', 'lima', 'sesaat', 'dimaksudnya', 'inilah', 'sendirinya', 'empat', 'secukupnya', 'berakhirnya', 'sepantasnyalah', 'berturut-turut', 'begitukah', 'tersebut', 'tidaklah', 'secara', 'disebutkan', 'mampu', 'sebagainya', 'kemudian', 'tahun', 'sekurangnya', 'tiga', 'berapalah', 'bertutur', 'diberikannya', 'setiba', 'agaknya', 'sebelumnya', 'tutur', 'baik', 'usah', 'ingat', 'semasa', 'sepanjang', 'rasanya', 'kamu', 'berarti', 'mengungkapkan', 'mengakhiri', 'diperlihatkan', 'dijelaskan', 'siapakah', 'satu', 'anda', 'apatah', 'menginginkan', 'amat', 'begitu', 'apalagi', 'masing-masing', 'mana', 'pada', 'seluruhnya', 'keseluruhannya', 'wahai', 'amatlah', 'sesuatunya', 'diperlukannya', 'ditanya', 'ingin', 'menyebutkan', 'diperkirakan', 'dipunyai', 'tepat', 'diperlukan', 'naik', 'mula', 'berikan', 'beri', 'kembali', 'demikianlah', 'jadinya', 'diingat', 'dituturkan', 'toh', 'jauh', 'adapun', 'berakhirlah', 'jumlahnya', 'melihat', 'depan', 'sebutlah', 'sayalah', 'membuat', 'dilakukan', 'terhadapnya', 'cukupkah', 'ditandaskan', 'sebuah', 'di', 'tetap', 'didapat', 'sebanyak', 'jangan', 'menunjuki', 'para', 'mengapa', 'seterusnya', 'terus', 'akhir', 'sekalian', 'berapakah', 'ujar', 'tersebutlah', 'benarkah', 'kalau', 'dimisalkan', 'semacam', 'seingat', 'beginian', 'memperlihatkan', 'apa', 'rata', 'bagaikan', 'disinilah', 'sampai', 'sekitarnya', 'sebutnya', 'berkenaan', 'lalu', 'mengibaratkannya', 'kemungkinannya', 'kinilah', 'terlebih', 'dan', 'mengenai', 'per', 'hanyalah', 'semua', 'mirip', 'itulah', 'dini', 'sesuatu', 'mereka', 'memperbuat', 'ikut', 'memberi', 'cukup', 'tanya', 'jelas', 'sekitar', 'wah', 'seolah', 'waktunya', 'dilihat', 'tegas', 'teringat-ingat', 'walaupun', 'berkata', 'dipergunakan', 'berikut', 'kenapa', 'diibaratkan', 'sebaiknya', 'kebetulan', 'menunjuk', 'setengah', 'bukankah', 'beberapa', 'terdapat', 'inikah', 'oleh', 'jelaskan', 'ialah', 'ingat-ingat', 'misalkan', 'misalnya', 'tadinya', 'bagaimana', 'ungkapnya', 'masalah', 'tentang', 'biasa', 'meski', 'mungkinkah', 'kedua', 'manalagi', 'rupanya', 'awal', 'caranya', 'dari', 'dialah', 'seluruh', 'sesudahnya', 'sini', 'tiap', 'sekiranya', 'dirinya', 'tentulah', 'ditegaskan', 'bukannya', 'setidak-tidaknya', 'luar', 'dikatakan', 'daripada', 'dahulu', 'juga'}\n"
     ]
    }
   ],
   "source": [
    "import nltk\n",
    "from nltk.tokenize import sent_tokenize, word_tokenize\n",
    "from nltk.corpus import stopwords\n",
    " \n",
    "kalimat = \"Andi kerap melakukan transaksi rutin secara daring atau online. Menurut Andi belanja online lebih praktis & murah.\"\n",
    "kalimat = kalimat.translate(str.maketrans('','',string.punctuation)).lower()\n",
    " \n",
    "tokens = word_tokenize(kalimat)\n",
    "listStopword =  set(stopwords.words('indonesian'))\n",
    " \n",
    "removed = []\n",
    "for t in tokens:\n",
    "    if t not in listStopword:\n",
    "        removed.append(t)\n",
    " \n",
    "print(removed)\n",
    "print(listStopword)"
   ]
  },
  {
   "cell_type": "markdown",
   "metadata": {},
   "source": [
    "## Filtering using Sastrawi: Stopword List ##\n",
    "Melihat daftar _stopword_ pada Sastrawi."
   ]
  },
  {
   "cell_type": "code",
   "execution_count": 21,
   "metadata": {},
   "outputs": [
    {
     "name": "stdout",
     "output_type": "stream",
     "text": [
      "['yang', 'untuk', 'pada', 'ke', 'para', 'namun', 'menurut', 'antara', 'dia', 'dua', 'ia', 'seperti', 'jika', 'jika', 'sehingga', 'kembali', 'dan', 'tidak', 'ini', 'karena', 'kepada', 'oleh', 'saat', 'harus', 'sementara', 'setelah', 'belum', 'kami', 'sekitar', 'bagi', 'serta', 'di', 'dari', 'telah', 'sebagai', 'masih', 'hal', 'ketika', 'adalah', 'itu', 'dalam', 'bisa', 'bahwa', 'atau', 'hanya', 'kita', 'dengan', 'akan', 'juga', 'ada', 'mereka', 'sudah', 'saya', 'terhadap', 'secara', 'agar', 'lain', 'anda', 'begitu', 'mengapa', 'kenapa', 'yaitu', 'yakni', 'daripada', 'itulah', 'lagi', 'maka', 'tentang', 'demi', 'dimana', 'kemana', 'pula', 'sambil', 'sebelum', 'sesudah', 'supaya', 'guna', 'kah', 'pun', 'sampai', 'sedangkan', 'selagi', 'sementara', 'tetapi', 'apakah', 'kecuali', 'sebab', 'selain', 'seolah', 'seraya', 'seterusnya', 'tanpa', 'agak', 'boleh', 'dapat', 'dsb', 'dst', 'dll', 'dahulu', 'dulunya', 'anu', 'demikian', 'tapi', 'ingin', 'juga', 'nggak', 'mari', 'nanti', 'melainkan', 'oh', 'ok', 'seharusnya', 'sebetulnya', 'setiap', 'setidaknya', 'sesuatu', 'pasti', 'saja', 'toh', 'ya', 'walau', 'tolong', 'tentu', 'amat', 'apalagi', 'bagaimanapun']\n"
     ]
    }
   ],
   "source": [
    "from Sastrawi.StopWordRemover.StopWordRemoverFactory import StopWordRemoverFactory\n",
    " \n",
    "factory = StopWordRemoverFactory()\n",
    "stopwords = factory.get_stop_words()\n",
    "print(stopwords)"
   ]
  },
  {
   "cell_type": "markdown",
   "metadata": {},
   "source": [
    "## Filtering using Sastrawi ##"
   ]
  },
  {
   "cell_type": "code",
   "execution_count": 28,
   "metadata": {},
   "outputs": [
    {
     "name": "stdout",
     "output_type": "stream",
     "text": [
      "['andi', 'kerap', 'melakukan', 'transaksi', 'rutin', 'daring', 'online', 'andi', 'belanja', 'online', 'lebih', 'praktis', 'murah']\n"
     ]
    }
   ],
   "source": [
    "from Sastrawi.StopWordRemover.StopWordRemoverFactory import StopWordRemoverFactory\n",
    "from nltk.tokenize import word_tokenize \n",
    "\n",
    "factory = StopWordRemoverFactory()\n",
    "stopword = factory.create_stop_word_remover()\n",
    "\n",
    "kalimat = \"Andi kerap melakukan transaksi rutin secara daring atau online. Menurut Andi belanja online lebih praktis & murah.\"\n",
    "kalimat = kalimat.translate(str.maketrans('','',string.punctuation)).lower()\n",
    "\n",
    "stop = stopword.remove(kalimat)\n",
    "tokens = nltk.tokenize.word_tokenize(stop)\n",
    "\n",
    "print(tokens)"
   ]
  },
  {
   "cell_type": "markdown",
   "metadata": {},
   "source": [
    "## Add Custom Stopword ##\n",
    "Menambahkan kata di _stopword_ untuk dihilangkan pada sebuah teks."
   ]
  },
  {
   "cell_type": "code",
   "execution_count": null,
   "metadata": {},
   "outputs": [],
   "source": [
    "from Sastrawi.StopWordRemover.StopWordRemoverFactory import StopWordRemoverFactory, StopWordRemover, ArrayDictionary\n",
    "from nltk.tokenize import word_tokenize \n",
    "    \n",
    "# ambil stopword bawaan\n",
    "stop_factory = StopWordRemoverFactory().get_stop_words()\n",
    "more_stopword = ['daring', 'online']\n",
    "\n",
    "kalimat = \"Andi kerap melakukan transaksi rutin secara daring atau online. Menurut Andi belanja online lebih praktis & murah.\"\n",
    "kalimat = kalimat.translate(str.maketrans('','',string.punctuation)).lower()\n",
    "\n",
    "# menggabungkan stopword\n",
    "data = stop_factory + more_stopword\n",
    " \n",
    "dictionary = ArrayDictionary(data)\n",
    "str = StopWordRemover(dictionary)\n",
    "tokens = nltk.tokenize.word_tokenize(str.remove(kalimat))\n",
    " \n",
    "print(tokens)"
   ]
  },
  {
   "cell_type": "markdown",
   "metadata": {},
   "source": [
    "## Stemming : Porter Stemming Algorithm using NLTK (English) ##\n",
    "\n",
    "https://tartarus.org/martin/PorterStemmer/index-old.html"
   ]
  },
  {
   "cell_type": "code",
   "execution_count": null,
   "metadata": {},
   "outputs": [],
   "source": [
    "from nltk.stem import PorterStemmer    \n",
    "ps = PorterStemmer() \n",
    "\n",
    "kata = [\"program\", \"programs\", \"programer\", \"programing\", \"programers\"] \n",
    "  \n",
    "for k in kata: \n",
    "    print(k, \" : \", ps.stem(k))"
   ]
  },
  {
   "cell_type": "markdown",
   "metadata": {},
   "source": [
    "## Stemming Bahasa Indonesia using Sastrawi ##"
   ]
  },
  {
   "cell_type": "code",
   "execution_count": 25,
   "metadata": {},
   "outputs": [
    {
     "name": "stdout",
     "output_type": "stream",
     "text": [
      "andi kerap laku transaksi rutin cara daring atau online turut andi belanja online lebih praktis murah\n"
     ]
    }
   ],
   "source": [
    "from Sastrawi.Stemmer.StemmerFactory import StemmerFactory\n",
    "factory = StemmerFactory()\n",
    "stemmer = factory.create_stemmer()\n",
    " \n",
    "kalimat = \"Andi kerap melakukan transaksi rutin secara daring atau online. Menurut Andi belanja online lebih praktis & murah.\"\n",
    "\n",
    "hasil = stemmer.stem(kalimat)\n",
    "print(hasil)"
   ]
  },
  {
   "cell_type": "markdown",
   "metadata": {},
   "source": [
    "## Frequency Distribution ##\n",
    "Menghitung frekuensi kemunculan setiap tokens(kata) dalam teks."
   ]
  },
  {
   "cell_type": "code",
   "execution_count": 32,
   "metadata": {},
   "outputs": [
    {
     "name": "stdout",
     "output_type": "stream",
     "text": [
      "[('andi', 2), ('online', 2), ('kerap', 1), ('melakukan', 1), ('transaksi', 1), ('rutin', 1), ('secara', 1), ('daring', 1), ('atau', 1), ('menurut', 1), ('belanja', 1), ('lebih', 1), ('praktis', 1), ('murah', 1)]\n"
     ]
    }
   ],
   "source": [
    "import string\n",
    "from nltk.tokenize import word_tokenize\n",
    "from nltk.probability import FreqDist\n",
    "\n",
    "kalimat = \"Andi kerap melakukan transaksi rutin secara daring atau online. Menurut Andi belanja online lebih praktis & murah.\"\n",
    "kalimat = kalimat.translate(str.maketrans('','',string.punctuation)).lower()\n",
    " \n",
    "tokens = nltk.tokenize.word_tokenize(kalimat)\n",
    "kemunculan = nltk.FreqDist(tokens)\n",
    "print(kemunculan.most_common())"
   ]
  },
  {
   "cell_type": "markdown",
   "metadata": {},
   "source": [
    "## Frequency Distribution Visualization with Matplotlib ##\n",
    "Untuk menggambarkan frekuensi kemunculan setiap tokens dapat menggunakan _library_ __matplotlib__ pada Python.\n",
    "\n",
    "https://matplotlib.org"
   ]
  },
  {
   "cell_type": "code",
   "execution_count": null,
   "metadata": {},
   "outputs": [],
   "source": [
    "import matplotlib.pyplot as plt\n",
    "\n",
    "kemunculan.plot(30,cumulative=False)\n",
    "plt.show()"
   ]
  }
 ],
 "metadata": {
  "kernelspec": {
   "display_name": "Python 3",
   "language": "python",
   "name": "python3"
  },
  "language_info": {
   "codemirror_mode": {
    "name": "ipython",
    "version": 3
   },
   "file_extension": ".py",
   "mimetype": "text/x-python",
   "name": "python",
   "nbconvert_exporter": "python",
   "pygments_lexer": "ipython3",
   "version": "3.7.4"
  }
 },
 "nbformat": 4,
 "nbformat_minor": 2
}
